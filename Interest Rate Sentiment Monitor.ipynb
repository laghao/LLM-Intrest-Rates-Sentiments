{
 "cells": [
  {
   "cell_type": "markdown",
   "id": "333cac11-d241-4570-a42d-ff37e7cc9c28",
   "metadata": {},
   "source": [
    "## Interest Rate Sentiment Monitor"
   ]
  },
  {
   "cell_type": "markdown",
   "id": "2dff033e-763d-42d5-85d6-acf054fefe3b",
   "metadata": {},
   "source": [
    "Instructions: \n",
    "1. For each of the four code cells below, click on the cell then hit Shift+Enter on your keyboard to run the code (or if on a mobile device, press 'play' button). \n",
    "2. Optionally, edit the comments in Code cell 2 to analyze different sentiments."
   ]
  },
  {
   "cell_type": "markdown",
   "id": "e664e698-066e-4b96-9cfb-15a02517384a",
   "metadata": {},
   "source": [
    "**Code cell 1:** Set up programming environment to use code to send prompts to OpenAI's cloud-hosted service."
   ]
  },
  {
   "cell_type": "code",
   "execution_count": 14,
   "id": "58f962d3-00f4-4786-8b76-f5091dec4b94",
   "metadata": {
    "height": 166
   },
   "outputs": [],
   "source": [
    "import openai\n",
    "import os\n",
    "\n",
    "openai.api_key = os.getenv(\"OPENAI_API_KEY\")\n",
    "\n",
    "\n",
    "def llm_response(prompt):\n",
    "    response = openai.chat.completions.create(\n",
    "        model='gpt-3.5-turbo',\n",
    "        messages=[{'role':'user','content':prompt}],\n",
    "        temperature=0\n",
    "    )\n",
    "   \n",
    "    return response.choices[0].message.content"
   ]
  },
  {
   "cell_type": "markdown",
   "id": "f5c28fca-8bcf-4d04-a52a-2849eba8a931",
   "metadata": {},
   "source": [
    "**Code cell 2:** Create a list of comments related to interest rates."
   ]
  },
  {
   "cell_type": "code",
   "execution_count": 15,
   "id": "1863af0b-4238-4071-b5d7-e632d20f99ea",
   "metadata": {
    "height": 166
   },
   "outputs": [
    {
     "data": {
      "text/plain": [
       "['The central bank raising interest rates will curb inflation.',\n",
       " 'Higher interest rates have made it difficult for us to secure a mortgage.',\n",
       " 'Interest rate hikes are slowing down the economy.',\n",
       " 'The adjustment in interest rates is positively impacting the currency value.',\n",
       " 'Rising interest rates are putting pressure on small businesses.']"
      ]
     },
     "execution_count": 15,
     "metadata": {},
     "output_type": "execute_result"
    }
   ],
   "source": [
    "interest_rate_comments = [\n",
    "    'The central bank raising interest rates will curb inflation.',\n",
    "    'Higher interest rates have made it difficult for us to secure a mortgage.',\n",
    "    'Interest rate hikes are slowing down the economy.',\n",
    "    'The adjustment in interest rates is positively impacting the currency value.',\n",
    "    'Rising interest rates are putting pressure on small businesses.'\n",
    "]\n",
    "\n",
    "interest_rate_comments"
   ]
  },
  {
   "cell_type": "markdown",
   "id": "288fba0e-a148-4c55-9f21-3a15fef0a9b5",
   "metadata": {},
   "source": [
    "**Code cell 3:** Classify the comments as positive or negative."
   ]
  },
  {
   "cell_type": "code",
   "execution_count": 16,
   "id": "e1d06ce6-7ef3-448f-8926-235d6c5eceeb",
   "metadata": {
    "height": 268
   },
   "outputs": [
    {
     "data": {
      "text/plain": [
       "['positive', 'negative', 'negative', 'positive', 'negative']"
      ]
     },
     "execution_count": 16,
     "metadata": {},
     "output_type": "execute_result"
    }
   ],
   "source": [
    "all_sentiments = []\n",
    "for comment in interest_rate_comments:\n",
    "    prompt = f'''\n",
    "        Classify the following comment\n",
    "        as having either a positive or\n",
    "        negative sentiment regarding interest rates. State your answer\n",
    "        as a single word, either \"positive\" or \"negative\" or \"neutral:\n",
    "\n",
    "        {comment}\n",
    "        '''\n",
    "    response = llm_response(prompt)\n",
    "    all_sentiments.append(response)\n",
    "\n",
    "all_sentiments"
   ]
  },
  {
   "cell_type": "markdown",
   "id": "a6e678a5-0fd1-41b3-8cd4-8cd470d6c525",
   "metadata": {},
   "source": [
    "**Code cell 4:** Count the number of positive and negative comments."
   ]
  },
  {
   "cell_type": "code",
   "execution_count": null,
   "id": "d1ac1b9c-0e31-4795-88e5-0be94467a213",
   "metadata": {
    "height": 166
   },
   "outputs": [
    {
     "name": "stdout",
     "output_type": "stream",
     "text": [
      "There are 2 positive and 3 negative comments about interest rates.\n",
      "There are 2 positive, 3 negative, and 0 neutral comments about interest rates.\n",
      "Percentage of Positive Comments: 40.00%\n",
      "Percentage of Negative Comments: 60.00%\n",
      "Percentage of Neutral Comments: 0.00%\n"
     ]
    }
   ],
   "source": [
    "num_positive = 0\n",
    "num_negative = 0\n",
    "num_neutral = 0 \n",
    "total_comments = len(all_sentiments)\n",
    "for sentiment in all_sentiments:\n",
    "    if sentiment == 'positive':\n",
    "        num_positive += 1\n",
    "    elif sentiment == 'negative':\n",
    "        num_negative += 1\n",
    "    elif sentiment == 'neutral':\n",
    "        num_negative += 1\n",
    "\n",
    "# Calculate percentages\n",
    "percent_positive = (num_positive / total_comments) * 100 if total_comments else 0\n",
    "percent_negative = (num_negative / total_comments) * 100 if total_comments else 0\n",
    "percent_neutral = (num_neutral / total_comments) * 100 if total_comments else 0\n",
    "\n",
    "# Print counts and percentages\n",
    "print(f\"There are {num_positive} positive, {num_negative} negative, and {num_neutral} neutral comments about interest rates.\")\n",
    "print(f\"Percentage of Positive Comments: {percent_positive:.2f}%\")\n",
    "print(f\"Percentage of Negative Comments: {percent_negative:.2f}%\")\n",
    "print(f\"Percentage of Neutral Comments: {percent_neutral:.2f}%\")\n",
    "\n"
   ]
  },
  {
   "cell_type": "markdown",
   "id": "2ac37a3b",
   "metadata": {},
   "source": [
    "## RAG"
   ]
  },
  {
   "cell_type": "code",
   "execution_count": null,
   "id": "06cb84c7",
   "metadata": {},
   "outputs": [],
   "source": [
    "from datasets import load_dataset\n",
    "\n",
    "dataset = load_dataset(\"infoslack/mistral-7b-arxiv-paper-chunked\", split=\"train\")\n",
    "\n",
    "dataset"
   ]
  },
  {
   "cell_type": "code",
   "execution_count": null,
   "id": "4b25bc58",
   "metadata": {},
   "outputs": [],
   "source": [
    "dataset[0]"
   ]
  },
  {
   "cell_type": "code",
   "execution_count": null,
   "id": "2c893f6d",
   "metadata": {},
   "outputs": [],
   "source": [
    "data = dataset.to_pandas()"
   ]
  },
  {
   "cell_type": "code",
   "execution_count": null,
   "id": "7a444a56",
   "metadata": {},
   "outputs": [],
   "source": [
    "data.head()"
   ]
  },
  {
   "cell_type": "code",
   "execution_count": null,
   "id": "529f4c74",
   "metadata": {},
   "outputs": [],
   "source": [
    "docs = data[['chunk', 'source']]\n",
    "docs.head()"
   ]
  },
  {
   "cell_type": "code",
   "execution_count": null,
   "id": "70ebcf01",
   "metadata": {},
   "outputs": [],
   "source": [
    "from langchain_community.vectorstores import Qdrant\n",
    "from langchain_openai import OpenAIEmbeddings\n",
    "embeddings = OpenAIEmbeddings(model=\"text-embedding-3-small\",\n",
    "                              openai_api_key=openai_api_key)\n",
    "\n",
    "url = os.getenv(\"QDRANT_URL\")\n",
    "api_key = os.getenv(\"QDRANT_KEY\")\n",
    "openai_api_key = os.getenv(\"OPENAI_API_KEY\")\n",
    "\n",
    "qdrant = Qdrant.from_documents(\n",
    "    documents=documents,\n",
    "    embedding=embeddings,\n",
    "    url=url,\n",
    "    collection_name=\"chatbot\",\n",
    "    api_key=api_key\n",
    ")"
   ]
  },
  {
   "cell_type": "code",
   "execution_count": null,
   "id": "4dc6cbec",
   "metadata": {},
   "outputs": [],
   "source": [
    "query = \"What are the the intrest rate sentiments today?\"\n",
    "qdrant.similarity_search(query, k=3)"
   ]
  },
  {
   "cell_type": "code",
   "execution_count": null,
   "id": "5ac9250d",
   "metadata": {},
   "outputs": [],
   "source": [
    "def custom_prompt(query: str):\n",
    "    results = qdrant.similarity_search(query, k=3)\n",
    "    source_knowledge = \"\\n\".join([x.page_content for x in results])\n",
    "    augment_prompt = f\"\"\"Using the contexts below, answer the query:\n",
    "\n",
    "    Contexts:\n",
    "    {source_knowledge}\n",
    "\n",
    "    Query: {query}\"\"\"\n",
    "    return augment_prompt"
   ]
  },
  {
   "cell_type": "code",
   "execution_count": null,
   "id": "472ca226",
   "metadata": {},
   "outputs": [],
   "source": [
    "print(custom_prompt(query))"
   ]
  },
  {
   "cell_type": "code",
   "execution_count": null,
   "id": "b51ba613",
   "metadata": {},
   "outputs": [],
   "source": [
    "prompt = HumanMessage(\n",
    "    content=custom_prompt(query)\n",
    ")\n",
    "\n",
    "messages.append(prompt)\n",
    "\n",
    "res = chat.invoke(messages)\n",
    "\n",
    "print(res.content)"
   ]
  },
  {
   "cell_type": "markdown",
   "id": "6daec591",
   "metadata": {},
   "source": [
    "## Groq"
   ]
  },
  {
   "cell_type": "code",
   "execution_count": null,
   "id": "473c672d",
   "metadata": {},
   "outputs": [],
   "source": [
    "from langchain_groq import ChatGroq\n",
    "chat = ChatGroq(temperature=0, model_name=\"mixtral-8x7b-32768\")"
   ]
  },
  {
   "cell_type": "code",
   "execution_count": null,
   "id": "f25efb8f",
   "metadata": {},
   "outputs": [],
   "source": [
    "prompt = HumanMessage(\n",
    "    content=custom_prompt(query)\n",
    ")\n",
    "\n",
    "messages.append(prompt)\n",
    "res = chat.invoke(messages)\n",
    "print(res.content)"
   ]
  }
 ],
 "metadata": {
  "kernelspec": {
   "display_name": "Python 3 (ipykernel)",
   "language": "python",
   "name": "python3"
  },
  "language_info": {
   "codemirror_mode": {
    "name": "ipython",
    "version": 3
   },
   "file_extension": ".py",
   "mimetype": "text/x-python",
   "name": "python",
   "nbconvert_exporter": "python",
   "pygments_lexer": "ipython3",
   "version": "3.12.2"
  }
 },
 "nbformat": 4,
 "nbformat_minor": 5
}
